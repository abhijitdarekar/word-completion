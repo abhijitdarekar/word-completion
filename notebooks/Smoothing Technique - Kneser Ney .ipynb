{
 "cells": [
  {
   "cell_type": "markdown",
   "id": "329ec6e1-4fc5-4fa1-802b-db0f10480bed",
   "metadata": {},
   "source": [
    "## Kneser Ney Method for next word prediction"
   ]
  },
  {
   "attachments": {
    "89328678-f4ef-4a10-81ed-e0eedc897821.png": {
     "image/png": "[encoded data removed]"
    }
   },
   "cell_type": "markdown",
   "id": "17d7e290-0068-4546-84bb-2260e133833e",
   "metadata": {},
   "source": [
    "Kneser-Ney is a method primarily used to calculate the probability distribution of n-grams in a document based on their counts/histories in document.\n",
    "\n",
    "\n",
    "#### Method\n",
    "\n",
    "\n",
    "![image.png](attachment:89328678-f4ef-4a10-81ed-e0eedc897821.png)\n",
    "\n",
    "\n",
    "\n",
    "\n",
    "Where , `w` and `w'` are word followed by each other in corus.<br>\n",
    "`delta` is a discounting factor.(Which can be tuned.)-1}}}`"
   ]
  },
  {
   "cell_type": "code",
   "execution_count": 209,
   "id": "fc101e80-51b3-4c87-9a3d-d3a6adec7035",
   "metadata": {},
   "outputs": [],
   "source": [
    "from collections import OrderedDict,defaultdict\n",
    "from nltk.util import ngrams\n",
    "import string"
   ]
  },
  {
   "cell_type": "code",
   "execution_count": 210,
   "id": "b2f0535f-28a0-4aaa-ac14-527d42ee341d",
   "metadata": {},
   "outputs": [],
   "source": [
    "class Conf:\n",
    "    punctuations = '!\"#$%&\\()*+,-./:;=?@[\\\\]^_`{|}~'\n",
    "    ngramLowerOrder = 2\n",
    "    ngramHigherOrder = 6\n",
    "    d = 0.75\n",
    "    interpolation  = 0.4"
   ]
  },
  {
   "cell_type": "code",
   "execution_count": 211,
   "id": "8d584290-eee2-4f02-96cf-282f84d253ca",
   "metadata": {},
   "outputs": [],
   "source": [
    "def load_corpus(data,n,vocab_dict):\n",
    "    ngram_dict = defaultdict(int)\n",
    "    lines = data\n",
    "    \n",
    "    lines = ['<start> ' + x + ' <end>' for x in lines]\n",
    "    for line in lines:\n",
    "        temp_l = line.split()\n",
    "        # print(temp_l)\n",
    "        i = 0\n",
    "        j = 0\n",
    "        for word in temp_l :\n",
    "            j = 0\n",
    "            for l in word :\n",
    "                if l in '!\"#$%&\\'()*+,-./:;=?@[\\\\]^_`{|}~':\n",
    "                    if l == \"'\":\n",
    "                        if j+1<len(word) and word[j+1] == 's':\n",
    "                            j = j + 1\n",
    "                            continue\n",
    "                    word = word.replace(l,\" \")\n",
    "                    #print(j,word[j])\n",
    "                j += 1\n",
    "            temp_l[i] = word.lower()\n",
    "            i=i+1 \n",
    "        content = \" \".join(temp_l)\n",
    "        token = content.split()\n",
    "        if not token:\n",
    "            continue\n",
    "        ngrams_list = list(ngrams(token, n))\n",
    "        # Building Vocabulary\n",
    "        for word in token:\n",
    "            if word not in vocab_dict.keys():\n",
    "                vocab_dict[word] = 1\n",
    "            else:\n",
    "                vocab_dict[word] += 1\n",
    "        # Building Ngram\n",
    "        if ngrams_list == []:\n",
    "            pass\n",
    "        else:\n",
    "            for t in ngrams_list:\n",
    "                sen = ' '.join(t)\n",
    "                ngram_dict[sen] += 1\n",
    "    return ngram_dict"
   ]
  },
  {
   "cell_type": "code",
   "execution_count": 212,
   "id": "638eef86-edec-4c6c-8c19-42126e240ca0",
   "metadata": {},
   "outputs": [],
   "source": [
    "def create_kneser_ney_dict(ngram_dict, n):\n",
    "    first_dict = {}\n",
    "    sec_dict = {}\n",
    "    for key in ngram_dict:\n",
    "        ngram_token = key.split()\n",
    "        n_1gram_sen = ' '.join(ngram_token[:n-1])\n",
    "        if n_1gram_sen not in sec_dict:\n",
    "            sec_dict[ n_1gram_sen ] = 1\n",
    "        else:\n",
    "            sec_dict[ n_1gram_sen ] += 1\n",
    "            \n",
    "        if ngram_token[-1] not in first_dict:\n",
    "            first_dict[ ngram_token[-1] ] = 1\n",
    "        else:\n",
    "            first_dict[ ngram_token[-1] ] += 1\n",
    "    \n",
    "    return first_dict, sec_dict"
   ]
  },
  {
   "cell_type": "code",
   "execution_count": 264,
   "id": "f3a464a8-bf45-4478-a14f-ee2e8fe978ea",
   "metadata": {},
   "outputs": [],
   "source": [
    "def computeKnesserNeyProb2(ngram_dicts,vocab_dict,prob_dict):\n",
    "    d = 0.75\n",
    "    interpolation = 0.4\n",
    "    for order in range(2, len(ngram_dicts) + 2):\n",
    "        current_dict = ngram_dicts[order - 2]\n",
    "\n",
    "        first_dict, sec_dict = create_kneser_ney_dict(current_dict, order)\n",
    "\n",
    "        for ngram in current_dict:\n",
    "            ngram_tokens = ngram.split()\n",
    "            prefix = ' '.join(ngram_tokens[:-1])\n",
    "            if prefix not in sec_dict:\n",
    "                # Use lower-order n-gram probabilities as back-off\n",
    "                prob_dict[prefix] = prob_dict.get(prefix, [])\n",
    "                prob_dict[prefix].append([interpolation * vocab_dict[ngram_tokens[-1]] / sum(vocab_dict.values()), ngram_tokens[-1]])\n",
    "                continue\n",
    "\n",
    "            prob1 = max(current_dict[ngram] - d, 0) / sec_dict[prefix] if prefix in sec_dict else 0\n",
    "            prob2 = d / sec_dict[prefix] * (first_dict[ngram_tokens[-1]] if ngram_tokens[-1] in first_dict else 0)\n",
    "\n",
    "            for i in range(order - 2, 0, -1):\n",
    "                ngram_prefix = ' '.join(ngram_tokens[i:-1])\n",
    "                prob2 *= d / len(ngram_dicts[i - 1]) * (sec_dict[ngram_prefix] if ngram_prefix in sec_dict else 0)\n",
    "\n",
    "            prob_dict[prefix] = prob_dict.get(prefix, [])\n",
    "#             prob_dict[prefix].append([prob1 + prob2, ngram_tokens[-1]])\n",
    "            prob_dict[prefix].append([(1 - interpolation) * (prob1 + prob2) + interpolation * vocab_dict[ngram_tokens[-1]] / sum(vocab_dict.values()), ngram_tokens[-1]])\n"
   ]
  },
  {
   "cell_type": "code",
   "execution_count": 265,
   "id": "ff7d938e-32aa-4819-9ae2-dc7074fa251d",
   "metadata": {},
   "outputs": [],
   "source": [
    "def sort_prob_word_wict(prob_dict):\n",
    "    for key in prob_dict.keys():\n",
    "        if len(prob_dict[key])>0:\n",
    "            prob_dict[key] = sorted(prob_dict[key],reverse = True)[:2]"
   ]
  },
  {
   "cell_type": "code",
   "execution_count": 266,
   "id": "e8fdcea2-0bda-4b48-a8a5-28c3e04fbb9a",
   "metadata": {},
   "outputs": [],
   "source": [
    "def clean_input(sen):\n",
    "    temp_l = sen.split()\n",
    "    i = 0\n",
    "    j = 0\n",
    "    for word in temp_l:\n",
    "        for l in word :\n",
    "            if l in '!\"#$%&\\'()*+,-./:;=?@[\\\\]^_`{|}~':\n",
    "                if l == \"'\":\n",
    "                    if j+1<len(word) and word[j+1] == 's':\n",
    "                        j = j + 1\n",
    "                        continue\n",
    "                word = word.replace(l,\" \")\n",
    "            j += 1\n",
    "\n",
    "        temp_l[i] = word.lower()\n",
    "        i=i+1   \n",
    "    content = \" \".join(temp_l)\n",
    "    return content\n"
   ]
  },
  {
   "cell_type": "code",
   "execution_count": 277,
   "id": "689048a0-5191-4901-914b-da5cc52abc56",
   "metadata": {},
   "outputs": [],
   "source": [
    "def predict_word(sen,prob_dict):\n",
    "    n = len(sen.split(\" \"))\n",
    "    sen = sen.split()\n",
    "    \n",
    "    for i in range(n-1):\n",
    "        a =  \" \".join(sen[i:])\n",
    "        if a in prob_dict:\n",
    "            return prob_dict[a]\n",
    "        \n",
    "    return \"\""
   ]
  },
  {
   "cell_type": "code",
   "execution_count": 275,
   "id": "1830a6ab-3adb-43c1-be34-05a49f524be2",
   "metadata": {},
   "outputs": [
    {
     "name": "stdout",
     "output_type": "stream",
     "text": [
      "-- Computing Ngrams --\n",
      "Completed\n",
      "-- Computing Kneser Ney Probablites --\n",
      "-- Sorting Proabblities --\n"
     ]
    }
   ],
   "source": [
    "data = [x.strip() for x in open(\"../data/movie.txt\").readlines()]\n",
    "conf = Conf()\n",
    "vocab_dict = defaultdict(int)\n",
    "conf.ngramLowerOrder = 2\n",
    "conf.ngramHigherOrder = 10\n",
    "ngram_dicts = []\n",
    "for i in range(conf.ngramLowerOrder,conf.ngramHigherOrder):\n",
    "    ngram_dicts.append(load_corpus(data,i,vocab_dict))\n",
    "print(\"-- Computing Ngrams --\")\n",
    "prob_dict = OrderedDict()\n",
    "computeKnesserNeyProb2(ngram_dicts, vocab_dict,prob_dict)\n",
    "print(\"-- Computing Kneser Ney Probablites --\")\n",
    "sort_prob_word_wict(prob_dict)\n",
    "print(\"-- Sorting Proabblities --\")"
   ]
  },
  {
   "cell_type": "code",
   "execution_count": 286,
   "id": "5f041839-ed7b-4df7-8f84-8829b70343d3",
   "metadata": {},
   "outputs": [
    {
     "name": "stdin",
     "output_type": "stream",
     "text": [
      "Enter the sentence to predict :  can we\n"
     ]
    },
    {
     "name": "stdout",
     "output_type": "stream",
     "text": [
      "Predicted : can we go\n"
     ]
    },
    {
     "name": "stdin",
     "output_type": "stream",
     "text": [
      "Enter the sentence to predict :  are you\n"
     ]
    },
    {
     "name": "stdout",
     "output_type": "stream",
     "text": [
      "Predicted : are you sure\n"
     ]
    },
    {
     "name": "stdin",
     "output_type": "stream",
     "text": [
      "Enter the sentence to predict :  Hello\n",
      "Enter the sentence to predict :  GOod\n"
     ]
    },
    {
     "name": "stdout",
     "output_type": "stream",
     "text": [
      "Predicted : good morning\n",
      "Predicted : good luck\n"
     ]
    },
    {
     "name": "stdin",
     "output_type": "stream",
     "text": [
      "Enter the sentence to predict :  exit\n"
     ]
    }
   ],
   "source": [
    "while True:\n",
    "    inp = input(\"Enter the sentence to predict : \")\n",
    "    max_len= 5\n",
    "    if inp.split() == [] and len(inp.split())>0:\n",
    "        break\n",
    "    if inp == \"exit\": \n",
    "        break\n",
    "    inp = clean_input(inp)\n",
    "    inp = f\"<start> {inp}\" \n",
    "    final_words = predict_word(inp,prob_dict)\n",
    "    max = 0\n",
    "    for words in final_words:\n",
    "        if words[0]>0.1:\n",
    "            print('Predicted :',inp.replace(\"<start>\",\"\").strip(),words[1])"
   ]
  }
 ],
 "metadata": {
  "kernelspec": {
   "display_name": "Python 3 (ipykernel)",
   "language": "python",
   "name": "python3"
  },
  "language_info": {
   "codemirror_mode": {
    "name": "ipython",
    "version": 3
   },
   "file_extension": ".py",
   "mimetype": "text/x-python",
   "name": "python",
   "nbconvert_exporter": "python",
   "pygments_lexer": "ipython3",
   "version": "3.10.12"
  }
 },
 "nbformat": 4,
 "nbformat_minor": 5
}
